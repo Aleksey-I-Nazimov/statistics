{
 "cells": [
  {
   "cell_type": "markdown",
   "id": "c5df3d48",
   "metadata": {},
   "source": [
    "<b>Задание 1</b><br>\n",
    "Даны значения величины заработной платы заемщиков банка (zp) и значения их поведенческого кредитного скоринга (ks):\n",
    "<br>\n",
    "zp = [35, 45, 190, 200, 40, 70, 54, 150, 120, 110],\n",
    "<br>\n",
    "ks = [401, 574, 874, 919, 459, 739, 653, 902, 746, 832].\n",
    "<br>\n",
    "Найдите ковариацию этих двух величин с помощью элементарных действий, а затем с помощью функции cov из numpy\n",
    "Полученные значения должны быть равны.\n",
    "Найдите коэффициент корреляции Пирсона с помощью ковариации и среднеквадратичных отклонений двух признаков,\n",
    "а затем с использованием функций из библиотек numpy и pandas."
   ]
  },
  {
   "cell_type": "code",
   "execution_count": 28,
   "id": "6cb803a0",
   "metadata": {},
   "outputs": [
    {
     "name": "stdout",
     "output_type": "stream",
     "text": [
      "  --> stacked: \n",
      "[[ 35  45 190 200  40  70  54 150 120 110]\n",
      " [401 574 874 919 459 739 653 902 746 832]]\n",
      "\n",
      "  --> covariance matrix: \n",
      "[[ 3882.93333333 10175.37777778]\n",
      " [10175.37777778 33854.32222222]]\n",
      "\n",
      "0.9861001023043511\n"
     ]
    }
   ],
   "source": [
    "import numpy as np\n",
    "\n",
    "# see docs: https://numpy.org/doc/stable/reference/generated/numpy.cov.html#numpy.cov\n",
    "# https://stackoverflow.com/questions/15317822/calculating-covariance-with-python-and-numpy\n",
    "# https://numpy.org/doc/stable/reference/generated/numpy.var.html\n",
    "\n",
    "zp= [35, 45, 190, 200, 40, 70, 54, 150, 120, 110];\n",
    "ks =  [401, 574, 874, 919, 459, 739, 653, 902, 746, 832];\n",
    "\n",
    "zp_ks = np.stack((zp, ks), axis=0)\n",
    "print (\"  --> stacked: \\n{}\\n\".format(zp_ks))\n",
    "cov_x_matrix=np.cov(zp_ks);\n",
    "print (\"  --> covariance matrix: \\n{}\\n\".format(cov_x_matrix))\n",
    "\n",
    "\n",
    "# see article: https://kpfu.ru/portal/docs/F_2064674290/NPS_19.Pirson.Menshov.pdf\n",
    "# https://www.codecamp.ru/blog/pearson-correlation-coefficient/\n",
    "cov_zp_ks = cov_x_matrix[0][1]\n",
    "zp_variance = np.var(zp) ** 0.5\n",
    "ks_variance = np.var(ks) ** 0.5\n",
    "pirson_corr = cov_zp_ks/(zp_variance*ks_variance);\n",
    "\n",
    "print (\"Pirson coefficient = {}\".format(pirson_corr))\n"
   ]
  },
  {
   "cell_type": "code",
   "execution_count": 24,
   "id": "12ecb628",
   "metadata": {},
   "outputs": [
    {
     "data": {
      "text/plain": [
       "array([[1.        , 0.88749009],\n",
       "       [0.88749009, 1.        ]])"
      ]
     },
     "execution_count": 24,
     "metadata": {},
     "output_type": "execute_result"
    }
   ],
   "source": [
    "# The standard corr-coef has different result because it doesn't use the variance\n",
    "# https://numpy.org/doc/stable/reference/generated/numpy.corrcoef.html\n",
    "\n",
    "pirson_corr_coeff_matrix = np.corrcoef(zp,ks)\n",
    "pirson_corr_coeff_matrix"
   ]
  },
  {
   "cell_type": "code",
   "execution_count": 31,
   "id": "5e49ce26",
   "metadata": {},
   "outputs": [
    {
     "name": "stdout",
     "output_type": "stream",
     "text": [
      "Pirson coefficient = 0.9861001023043511\n"
     ]
    }
   ],
   "source": [
    "# The basic formula:\n",
    "\n",
    "zp = np.array(zp)\n",
    "zp_average = np.average(zp)\n",
    "zp_a = zp-zp_average\n",
    "\n",
    "ks = np.array(ks)\n",
    "ks_average = np.average(ks)\n",
    "ks_a = ks-ks_average\n",
    "\n",
    "pirson_coefficient=np.correlate(zp_a,ks_a)/((np.var(ks_a) ** 0.5) * (np.var(zp_a) ** 0.5))\n",
    "\n",
    "print (\"Pirson coefficient = {}\".format(pirson_corr))\n",
    "\n"
   ]
  },
  {
   "cell_type": "markdown",
   "id": "e7e75599",
   "metadata": {},
   "source": [
    "<b>Задание 2</b></br>\n",
    "Измерены значения IQ выборки студентов,\n",
    "обучающихся в местных технических вузах:\n",
    "131, 125, 115, 122, 131, 115, 107, 99, 125, 111.\n",
    "Известно, что в генеральной совокупности IQ распределен нормально.\n",
    "Найдите доверительный интервал для математического ожидания с надежностью 0.95."
   ]
  },
  {
   "cell_type": "code",
   "execution_count": 33,
   "id": "e6ca54dc",
   "metadata": {},
   "outputs": [
    {
     "name": "stdout",
     "output_type": "stream",
     "text": [
      "t1=110.55608365158724, t2=125.64391634841274\n"
     ]
    }
   ],
   "source": [
    "import scipy.stats as stat\n",
    "\n",
    "X = np.array([131, 125, 115, 122, 131, 115, 107, 99, 125, 111]);\n",
    "t1,t2 = stat.t.interval(alpha=0.95, df=X.size-1, loc=np.average(X), scale=stat.sem(X))\n",
    "\n",
    "print (\"t1={}, t2={}\".format(t1,t2))"
   ]
  },
  {
   "cell_type": "markdown",
   "id": "ab0b00bb",
   "metadata": {},
   "source": [
    "<b>Задание 3</b>\n",
    "<br>\n",
    "Известно, что рост футболистов в сборной распределен нормально\n",
    "с дисперсией генеральной совокупности, равной 25 кв.см. Объем выборки равен 27,\n",
    "среднее выборочное составляет 174.2. Найдите доверительный интервал для математического\n",
    "ожидания с надежностью 0.95."
   ]
  },
  {
   "cell_type": "code",
   "execution_count": 34,
   "id": "193f5198",
   "metadata": {},
   "outputs": [
    {
     "name": "stdout",
     "output_type": "stream",
     "text": [
      "t1=122.81176403392823, t2=225.58823596607175\n"
     ]
    }
   ],
   "source": [
    "t1,t2 = stat.t.interval(alpha=0.95, df=27-1, loc=174.2, scale=25)\n",
    "print (\"t1={}, t2={}\".format(t1,t2))"
   ]
  },
  {
   "cell_type": "code",
   "execution_count": null,
   "id": "3526f108",
   "metadata": {},
   "outputs": [],
   "source": []
  }
 ],
 "metadata": {
  "kernelspec": {
   "display_name": "Python 3 (ipykernel)",
   "language": "python",
   "name": "python3"
  },
  "language_info": {
   "codemirror_mode": {
    "name": "ipython",
    "version": 3
   },
   "file_extension": ".py",
   "mimetype": "text/x-python",
   "name": "python",
   "nbconvert_exporter": "python",
   "pygments_lexer": "ipython3",
   "version": "3.9.12"
  }
 },
 "nbformat": 4,
 "nbformat_minor": 5
}
