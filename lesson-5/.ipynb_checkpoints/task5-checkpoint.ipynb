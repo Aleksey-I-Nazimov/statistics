{
 "cells": [
  {
   "cell_type": "markdown",
   "id": "b21709c3",
   "metadata": {},
   "source": [
    "<b>Задание 1.</b><br>Известно, что генеральная совокупность распределена нормально\n",
    "со средним квадратическим отклонением, равным 16.\n",
    "Найти доверительный интервал для оценки математического ожидания с надежностью 0.95,\n",
    "если выборочная средняя 80, а объем выборки 256."
   ]
  },
  {
   "cell_type": "code",
   "execution_count": 13,
   "id": "b835d650",
   "metadata": {},
   "outputs": [
    {
     "name": "stdout",
     "output_type": "stream",
     "text": [
      "t1=48.491030882412915, t2=111.50896911758709\n"
     ]
    }
   ],
   "source": [
    "# see docs: https://docs.scipy.org/doc/scipy/reference/generated/scipy.stats.t.html#scipy.stats.t\n",
    "#           https://docs.scipy.org/doc/scipy/reference/generated/scipy.stats.sem.html\n",
    "#           https://www.codecamp.ru/blog/confidence-intervals-python/\n",
    "\n",
    "import numpy as np, scipy.stats as stat\n",
    "\n",
    "\n",
    "t1,t2 = stat.t.interval(alpha=0.95, df=256-1, loc=80, scale=16)\n",
    "\n",
    "print (\"t1={}, t2={}\".format(t1,t2))\n"
   ]
  },
  {
   "cell_type": "markdown",
   "id": "04d20227",
   "metadata": {},
   "source": [
    "<b>Задание 2.</b><br>\n",
    "В результате 10 независимых измерений некоторой величины X, выполненных с одинаковой точностью,\n",
    "получены опытные данные:\n",
    "6.9, 6.1, 6.2, 6.8, 7.5, 6.3, 6.4, 6.9, 6.7, 6.1\n",
    "Предполагая, что результаты измерений подчинены нормальному закону распределения вероятностей,\n",
    "оценить истинное значение величины X при помощи доверительного интервала, покрывающего это\n",
    "значение с доверительной вероятностью 0,95."
   ]
  },
  {
   "cell_type": "code",
   "execution_count": 23,
   "id": "e3666b5c",
   "metadata": {},
   "outputs": [
    {
     "name": "stdout",
     "output_type": "stream",
     "text": [
      "t1=6.267515851415713, t2=6.912484148584288\n",
      "possible avg=6.590000000000001\n"
     ]
    }
   ],
   "source": [
    "X = np.array([ 6.9, 6.1, 6.2, 6.8, 7.5, 6.3, 6.4, 6.9, 6.7, 6.1]);\n",
    "\n",
    "t1,t2 = stat.t.interval(alpha=0.95, df=X.size-1, loc=np.average(X), scale=stat.sem(X))\n",
    "\n",
    "print (\"t1={}, t2={}\".format(t1,t2))\n",
    "print (\"possible avg={}\".format(0.5*(t1+t2)))\n"
   ]
  },
  {
   "cell_type": "code",
   "execution_count": 26,
   "id": "fc54b806",
   "metadata": {},
   "outputs": [
    {
     "name": "stdout",
     "output_type": "stream",
     "text": [
      "t1=6.295481598741906, t2=6.884518401258095\n",
      "possible avg=6.590000000000001\n"
     ]
    }
   ],
   "source": [
    "# additional solution: https://stackoverflow.com/questions/15033511/compute-a-confidence-interval-from-sample-data\n",
    "\n",
    "from statistics import NormalDist\n",
    "\n",
    "def confidence_interval(data, confidence=0.95):\n",
    "  dist = NormalDist.from_samples(data)\n",
    "  z = NormalDist().inv_cdf((1 + confidence) / 2.)\n",
    "  h = dist.stdev * z / ((len(data) - 1) ** .5)\n",
    "  return dist.mean - h, dist.mean + h\n",
    "\n",
    "t1,t2 = confidence_interval(X)\n",
    "\n",
    "print (\"t1={}, t2={}\".format(t1,t2))\n",
    "print (\"possible avg={}\".format(0.5*(t1+t2)))\n"
   ]
  },
  {
   "cell_type": "markdown",
   "id": "b774fa82",
   "metadata": {},
   "source": [
    "<b>Задание 3</b><br>\n",
    "Утверждается, что шарики для подшипников, изготовленные автоматическим станком, имеют средний диаметр 17 мм.\n",
    "Используя односторонний критерий с α=0,05, проверить эту гипотезу, если в выборке из n=100 шариков средний диаметр\n",
    "оказался равным 17.5 мм, а дисперсия известна и равна 4 мм."
   ]
  },
  {
   "cell_type": "code",
   "execution_count": 31,
   "id": "d6b81cba",
   "metadata": {},
   "outputs": [
    {
     "name": "stdout",
     "output_type": "stream",
     "text": [
      "t1=17.248536189342598, t2=17.751463810657402\n"
     ]
    },
    {
     "data": {
      "text/plain": [
       "False"
      ]
     },
     "execution_count": 31,
     "metadata": {},
     "output_type": "execute_result"
    }
   ],
   "source": [
    "t1,t2 = stat.t.interval(alpha=0.05, df=100-1, loc=17.5, scale=4)\n",
    "print (\"t1={}, t2={}\".format(t1,t2))\n",
    "\n",
    "truth = t1<17<t2\n",
    "truth"
   ]
  },
  {
   "cell_type": "markdown",
   "id": "7fbfcc17",
   "metadata": {},
   "source": [
    "<b>Задание 4</b><br>\n",
    "Продавец утверждает, что средний вес пачки печенья составляет 200 г.\n",
    "Из партии извлечена выборка из 10 пачек. Вес каждой пачки составляет:\n",
    "202, 203, 199, 197, 195, 201, 200, 204, 194, 190.\n",
    "Известно, что их веса распределены нормально.\n",
    "Верно ли утверждение продавца, если учитывать, что доверительная вероятность равна 99%"
   ]
  },
  {
   "cell_type": "code",
   "execution_count": 33,
   "id": "e48938ab",
   "metadata": {},
   "outputs": [
    {
     "name": "stdout",
     "output_type": "stream",
     "text": [
      "t1=193.92322840036354, t2=203.07677159963646\n"
     ]
    },
    {
     "data": {
      "text/plain": [
       "True"
      ]
     },
     "execution_count": 33,
     "metadata": {},
     "output_type": "execute_result"
    }
   ],
   "source": [
    "X = np.array([202, 203, 199, 197, 195, 201, 200, 204, 194, 190]);\n",
    "\n",
    "t1,t2 = stat.t.interval(alpha=0.99, df=X.size-1, loc=np.average(X), scale=stat.sem(X))\n",
    "\n",
    "print (\"t1={}, t2={}\".format(t1,t2))\n",
    "truth = t1<200<t2\n",
    "truth"
   ]
  },
  {
   "cell_type": "code",
   "execution_count": null,
   "id": "a04aca19",
   "metadata": {},
   "outputs": [],
   "source": []
  }
 ],
 "metadata": {
  "kernelspec": {
   "display_name": "Python 3 (ipykernel)",
   "language": "python",
   "name": "python3"
  },
  "language_info": {
   "codemirror_mode": {
    "name": "ipython",
    "version": 3
   },
   "file_extension": ".py",
   "mimetype": "text/x-python",
   "name": "python",
   "nbconvert_exporter": "python",
   "pygments_lexer": "ipython3",
   "version": "3.9.12"
  }
 },
 "nbformat": 4,
 "nbformat_minor": 5
}
