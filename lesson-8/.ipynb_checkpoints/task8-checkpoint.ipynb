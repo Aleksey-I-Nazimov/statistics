{
 "cells": [
  {
   "cell_type": "markdown",
   "id": "f30bf1a5",
   "metadata": {},
   "source": [
    "Провести дисперсионный анализ для определения того, есть ли различия среднего роста среди взрослых футболистов, хоккеистов и штангистов. Даны значения роста в трех группах случайно выбранных спортсменов: Футболисты: 173, 175, 180, 178, 177, 185, 183, 182. Хоккеисты: 177, 179, 180, 188, 177, 172, 171, 184, 180. Штангисты: 172, 173, 169, 177, 166, 180, 178, 177, 172, 166, 170. alpha = 0.05."
   ]
  },
  {
   "cell_type": "code",
   "execution_count": 1,
   "id": "655f736d",
   "metadata": {},
   "outputs": [
    {
     "name": "stdout",
     "output_type": "stream",
     "text": [
      "Overall size: 28\n"
     ]
    }
   ],
   "source": [
    "import numpy as np\n",
    "\n",
    "f = np.array([173, 175, 180, 178, 177, 185, 183, 182])\n",
    "h = np.array([177, 179, 180, 188, 177, 172, 171, 184, 180])\n",
    "b = np.array([172, 173, 169, 177, 166, 180, 178, 177, 172, 166, 170])\n",
    "alpha = 0.05\n",
    "\n",
    "\n"
   ]
  },
  {
   "cell_type": "code",
   "execution_count": 9,
   "id": "21f86e3f",
   "metadata": {},
   "outputs": [
    {
     "name": "stdout",
     "output_type": "stream",
     "text": [
      "Overall size: 28\n",
      "Nj=[8, 9, 11]\n"
     ]
    }
   ],
   "source": [
    "N = f.size + h.size + b.size\n",
    "print (\"Overall size: {}\".format(N))\n",
    "\n",
    "Nj = [f.size,h.size,b.size]\n",
    "Yji = [f,h,b]\n",
    "print (\"Nj={}\".format(Nj))"
   ]
  },
  {
   "cell_type": "code",
   "execution_count": 7,
   "id": "d6f08be4",
   "metadata": {},
   "outputs": [
    {
     "name": "stdout",
     "output_type": "stream",
     "text": [
      "Averages [179.125, 178.66666666666666, 172.72727272727272] - 176.46428571428572\n"
     ]
    }
   ],
   "source": [
    "Yj_mean=[]\n",
    "Y_mean =0\n",
    "for Yj in Yji:\n",
    "    mean = np.mean(Yj)\n",
    "    Yj_mean.append(mean)\n",
    "    Y_mean += (mean*Yj.size/N)\n",
    "    \n",
    "print (\"Averages {} - {}\".format(Yj_mean,Y_mean))"
   ]
  },
  {
   "cell_type": "code",
   "execution_count": 10,
   "id": "de390388",
   "metadata": {},
   "outputs": [
    {
     "name": "stdout",
     "output_type": "stream",
     "text": [
      "Quadratic deviation sum: 830.9642857142854\n"
     ]
    }
   ],
   "source": [
    "S2 = 0\n",
    "for Yj in Yji:\n",
    "    for y in Yj:\n",
    "        S2 += (y-Y_mean) ** 2\n",
    "\n",
    "print (\"Quadratic deviation sum: {}\".format(S2))"
   ]
  },
  {
   "cell_type": "code",
   "execution_count": 11,
   "id": "df5264a9",
   "metadata": {},
   "outputs": [
    {
     "name": "stdout",
     "output_type": "stream",
     "text": [
      "Quadratic deviation sum of grouped values: 253.9074675324678\n"
     ]
    }
   ],
   "source": [
    "S2F = 0\n",
    "for j in range (0,len(Yj_mean)) :\n",
    "    S2F += Nj[j]*((Yj_mean[j]-Y_mean)**2)\n",
    "    \n",
    "print (\"Quadratic deviation sum of grouped values: {}\".format(S2F))"
   ]
  },
  {
   "cell_type": "code",
   "execution_count": 12,
   "id": "3d579565",
   "metadata": {},
   "outputs": [
    {
     "name": "stdout",
     "output_type": "stream",
     "text": [
      "Residual sum = 577.0568181818181\n"
     ]
    }
   ],
   "source": [
    "S2R = 0\n",
    "for j in range (0,len(Yj_mean)) :\n",
    "    mean = Yj_mean[j]\n",
    "    for y in Yji[j] :\n",
    "        S2R += (y-mean) **2\n",
    "\n",
    "print (\"Residual sum = {}\".format(S2R))"
   ]
  },
  {
   "cell_type": "code",
   "execution_count": 13,
   "id": "1bde384e",
   "metadata": {},
   "outputs": [
    {
     "name": "stdout",
     "output_type": "stream",
     "text": [
      "S2 = 830.9642857142854 = S2F+S2R = 830.9642857142859\n"
     ]
    }
   ],
   "source": [
    "print (\"S2 = {} = S2F+S2R = {}\".format(S2,S2F+S2R))"
   ]
  },
  {
   "cell_type": "code",
   "execution_count": 14,
   "id": "ed3febb2",
   "metadata": {},
   "outputs": [
    {
     "name": "stdout",
     "output_type": "stream",
     "text": [
      "Sigma ^2 overall = 30.776455026455015\n"
     ]
    }
   ],
   "source": [
    "sigma_overall2 = S2/(N-1)\n",
    "print (\"Sigma ^2 overall = {}\".format(sigma_overall2))"
   ]
  },
  {
   "cell_type": "code",
   "execution_count": 15,
   "id": "e483bdff",
   "metadata": {},
   "outputs": [
    {
     "name": "stdout",
     "output_type": "stream",
     "text": [
      "Sigma ^2 factor = 126.9537337662339\n"
     ]
    }
   ],
   "source": [
    "sigma_factor2 = S2F/(len(Yj_mean)-1)\n",
    "print (\"Sigma ^2 factor = {}\".format(sigma_factor2))"
   ]
  },
  {
   "cell_type": "code",
   "execution_count": 16,
   "id": "c0efc475",
   "metadata": {},
   "outputs": [
    {
     "name": "stdout",
     "output_type": "stream",
     "text": [
      "Sigma ^2 residual = 23.082272727272724\n"
     ]
    }
   ],
   "source": [
    "sigma_residual2 = S2R/(N-len(Yj_mean))\n",
    "print (\"Sigma ^2 residual = {}\".format(sigma_residual2))"
   ]
  },
  {
   "cell_type": "code",
   "execution_count": 17,
   "id": "6b78958e",
   "metadata": {},
   "outputs": [
    {
     "name": "stdout",
     "output_type": "stream",
     "text": [
      "Fh = 5.500053450812599\n"
     ]
    }
   ],
   "source": [
    "Fh = sigma_factor2/sigma_residual2\n",
    "print (\"Fh = {}\".format(Fh))"
   ]
  },
  {
   "cell_type": "code",
   "execution_count": 18,
   "id": "8adbad0d",
   "metadata": {},
   "outputs": [
    {
     "name": "stdout",
     "output_type": "stream",
     "text": [
      "etta2 = 0.30555761769498\n"
     ]
    }
   ],
   "source": [
    "etta2 = S2F/S2\n",
    "print (\"etta2 = {}\".format(etta2))"
   ]
  },
  {
   "cell_type": "markdown",
   "id": "48ae700a",
   "metadata": {},
   "source": [
    "etta2 имеет значение больше 0.3 значит средние значения в группах будут отличаться"
   ]
  },
  {
   "cell_type": "code",
   "execution_count": null,
   "id": "e7e870c8",
   "metadata": {},
   "outputs": [],
   "source": []
  }
 ],
 "metadata": {
  "kernelspec": {
   "display_name": "Python 3 (ipykernel)",
   "language": "python",
   "name": "python3"
  },
  "language_info": {
   "codemirror_mode": {
    "name": "ipython",
    "version": 3
   },
   "file_extension": ".py",
   "mimetype": "text/x-python",
   "name": "python",
   "nbconvert_exporter": "python",
   "pygments_lexer": "ipython3",
   "version": "3.9.12"
  }
 },
 "nbformat": 4,
 "nbformat_minor": 5
}
