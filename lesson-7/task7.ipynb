{
 "cells": [
  {
   "cell_type": "code",
   "execution_count": 25,
   "id": "7186dc74",
   "metadata": {},
   "outputs": [],
   "source": [
    "import matplotlib.pyplot as plt\n",
    "\n",
    "%matplotlib inline\n",
    "from pylab import rcParams\n",
    "rcParams['figure.figsize'] = 10,5"
   ]
  },
  {
   "cell_type": "markdown",
   "id": "175b296c",
   "metadata": {},
   "source": [
    "<b>Задание 1</b><br>\n",
    "Даны значения величины заработной платы заемщиков банка (zp) и значения их поведенческого кредитного скоринга (ks): zp = [35, 45, 190, 200, 40, 70, 54, 150, 120, 110], ks = [401, 574, 874, 919, 459, 739, 653, 902, 746, 832]. Используя математические операции, посчитать коэффициенты линейной регрессии, приняв за X заработную плату (то есть, zp - признак), а за y - значения скорингового балла (то есть, ks - целевая переменная). Произвести расчет как с использованием intercept, так и без."
   ]
  },
  {
   "cell_type": "code",
   "execution_count": 26,
   "id": "8133ed0b",
   "metadata": {},
   "outputs": [
    {
     "name": "stdout",
     "output_type": "stream",
     "text": [
      "Initial data:\n",
      " salary=[ 35.  45. 190. 200.  40.  70.  54. 150. 120. 110.]\n",
      " credit score=[401. 574. 874. 919. 459. 739. 653. 902. 746. 832.]\n",
      " length=10\n",
      "\n"
     ]
    }
   ],
   "source": [
    "import numpy as np\n",
    "import math\n",
    "\n",
    "# salary:-------------\n",
    "x = np.array([35, 45, 190, 200, 40, 70, 54, 150, 120, 110], dtype=np.float64)\n",
    "# credit-score:-------\n",
    "y = np.array([401, 574, 874, 919, 459, 739, 653, 902, 746, 832], dtype=np.float64)\n",
    "# size:---------------\n",
    "n = min(x.size,y.size);\n",
    "\n",
    "print (\"Initial data:\\n salary={}\\n credit score={}\\n length={}\\n\".format(x,y,n))\n",
    "\n"
   ]
  },
  {
   "cell_type": "markdown",
   "id": "2dcd9941",
   "metadata": {},
   "source": [
    "$Y[i] = a + bX[i] + \\varepsilon_i, \\varepsilon_i$ = 0\n",
    "$$b = \\frac{\\overline{yx} - \\overline{y} \\cdot {\\overline{x}}}{\\overline{x^2} - (\\overline{x})^2};$$\n",
    "$$a = \\overline{y} - b \\cdot {\\overline{x}}.$$"
   ]
  },
  {
   "cell_type": "code",
   "execution_count": 27,
   "id": "c7f16a56",
   "metadata": {},
   "outputs": [
    {
     "name": "stdout",
     "output_type": "stream",
     "text": [
      "Yi = 444.1773573243596  +  Xi * 2.620538882402765\n"
     ]
    }
   ],
   "source": [
    "\n",
    "b = (np.average(y * x) - np.average(y) * np.average(x)) / (np.average(x**2) - np.average(x) ** 2)\n",
    "a = np.average(y) - b * np.average(x)\n",
    "\n",
    "print (\"Yi = {}  +  Xi * {}\".format(a,b));"
   ]
  },
  {
   "cell_type": "markdown",
   "id": "488c208b",
   "metadata": {},
   "source": [
    "$$r_{xy} = \\frac{\\sum\\limits_{i=1}^{n} (x_i - \\overline{x})(y_i - \\overline{y})} {\\sqrt{\\sum\\limits_{i=1}^{n} (x_i - \\overline{x})^2 \\cdot {\\sum\\limits_{i=1}^{n} (y_i - \\overline{y})^2}}} = b \\cdot {\\frac{\\sigma_x}{\\sigma_y}}$$"
   ]
  },
  {
   "cell_type": "code",
   "execution_count": 28,
   "id": "c10d7b0e",
   "metadata": {},
   "outputs": [
    {
     "name": "stdout",
     "output_type": "stream",
     "text": [
      "Rxy=0.8874900920739162\n"
     ]
    }
   ],
   "source": [
    "#  Pierson  correlation:---------------\n",
    "Rxy = b * np.std(x) / np.std(y)\n",
    "print (\"Rxy={}\".format(Rxy))\n"
   ]
  },
  {
   "cell_type": "markdown",
   "id": "5a97bb99",
   "metadata": {},
   "source": [
    "$$R_{2} = r^{2}_{xy}$$"
   ]
  },
  {
   "cell_type": "code",
   "execution_count": 29,
   "id": "b81d7c39",
   "metadata": {},
   "outputs": [
    {
     "name": "stdout",
     "output_type": "stream",
     "text": [
      "R2=0.7876386635293682\n"
     ]
    }
   ],
   "source": [
    "# Determination:-----------------------\n",
    "R2 = Rxy ** 2;\n",
    "print (\"R2={}\".format(R2))"
   ]
  },
  {
   "cell_type": "markdown",
   "id": "a5736027",
   "metadata": {},
   "source": [
    "$$\\overline{ERROR} = \\frac{1}{n} \\sum\\limits_{i=1}^{n} \\Bigl |{{\\frac{y_i - Y[i]}{y_i}} \\Bigr |} \\cdot{100\\%}$$"
   ]
  },
  {
   "cell_type": "code",
   "execution_count": 35,
   "id": "9dcbe84f",
   "metadata": {},
   "outputs": [
    {
     "name": "stdout",
     "output_type": "stream",
     "text": [
      "Applying regression: [535.89621821 562.10160703 942.07974498 968.2851338  548.99891262\n",
      " 627.61507909 585.68645697 837.25818968 758.64202321 732.43663439]\n",
      "ERROR = 11.469251843561707\n"
     ]
    }
   ],
   "source": [
    "Yi = a + b * x\n",
    "print (\"Applying regression: {}\".format(Yi))\n",
    "\n",
    "error= np.average((np.abs((y-Yi)/y))*100)\n",
    "print (\"ERROR = {}\".format(error))"
   ]
  },
  {
   "cell_type": "code",
   "execution_count": 34,
   "id": "154c79a7",
   "metadata": {},
   "outputs": [
    {
     "data": {
      "text/plain": [
       "<matplotlib.collections.PathCollection at 0x1d1cf492ca0>"
      ]
     },
     "execution_count": 34,
     "metadata": {},
     "output_type": "execute_result"
    },
    {
     "data": {
      "image/png": "[encoded data removed]",
      "text/plain": [
       "<Figure size 720x360 with 1 Axes>"
      ]
     },
     "metadata": {
      "needs_background": "light"
     },
     "output_type": "display_data"
    }
   ],
   "source": [
    "# Plotting results:---------------------------\n",
    "plt.scatter (x,y)\n",
    "plt.scatter (x,Yi)\n"
   ]
  },
  {
   "cell_type": "markdown",
   "id": "655350d8",
   "metadata": {},
   "source": [
    "$$F_{факт} = \\frac{r_{xy}^{2}}{(1 - r_{xy}^{2})} \\cdot \\frac{k_2}{k_1}= \\frac{r_{xy}^{2} \\cdot (n - 2)}{(1 - r_{xy}^{2})}$$\n",
    "\n",
    "где $k_1$ и $k_2$ — это степени свободы, $k_1$ — количество факторных признаков (для парной линейной регрессии оно равно 1).\n",
    "$k_2$ = $n - k - 1$, где $n$ — это число наблюдений и $k$ — число факторных признаков (для парной линейной регрессии $k_2 = n - 2$,\n",
    "то есть числу наблюдений, уменьшенному на 2)."
   ]
  },
  {
   "cell_type": "code",
   "execution_count": 37,
   "id": "bf62c8a0",
   "metadata": {},
   "outputs": [
    {
     "name": "stdout",
     "output_type": "stream",
     "text": [
      "Fisher criteria: 29.671640859664432\n"
     ]
    }
   ],
   "source": [
    "# Calculating Fisher criteria:-------------------------\n",
    "Fisher = (R2 * (n - 2)) / (1 - R2)\n",
    "print (\"Fisher criteria: {}\".format(Fisher))"
   ]
  },
  {
   "cell_type": "markdown",
   "id": "d64e8ed4",
   "metadata": {},
   "source": [
    "По таблице https://www.chem-astu.ru/science/reference/F-statistic.html\n",
    "при k1 (f1) =1 и k2 (f2) =8 F = 5.32"
   ]
  },
  {
   "cell_type": "code",
   "execution_count": 40,
   "id": "acb802b5",
   "metadata": {},
   "outputs": [
    {
     "name": "stdout",
     "output_type": "stream",
     "text": [
      "Is the regression valuable by Fisher: True\n"
     ]
    }
   ],
   "source": [
    "print (\"Is the regression valuable by Fisher: {}\".format(Fisher>5.32))"
   ]
  },
  {
   "cell_type": "markdown",
   "id": "14555d1f",
   "metadata": {},
   "source": [
    " $$t_a = \\frac{a}{m_a}$$\n",
    " $$t_b = \\frac{b}{m_b}$$\n",
    " $$m_a  = S_{ост} \\cdot {\\frac{\\sqrt{\\sum{x^2}}}{n \\cdot {\\sigma_x}}}$$\n",
    " $$m_b = \\frac{S_{ост}}{\\sigma_x \\cdot{\\sqrt{n}}}$$\n",
    " $$S_{ост} = \\sqrt{\\frac{\\sum\\limits_{i=1}^{n}(y_i - \\hat{y}_i)^2}{n - 2}}$$"
   ]
  },
  {
   "cell_type": "code",
   "execution_count": 42,
   "id": "3185846c",
   "metadata": {},
   "outputs": [
    {
     "name": "stdout",
     "output_type": "stream",
     "text": [
      "Student boundaries ta=7.866210524668864 tb=5.447168150485579\n"
     ]
    }
   ],
   "source": [
    "# Calculating student criteria:------------------------\n",
    "\n",
    "s_residual = np.sqrt(np.sum((y - Yi)**2) / (n - 2))\n",
    "m_a = s_residual * np.sqrt(np.sum(x ** 2)) / (n * np.std(x))\n",
    "m_b = s_residual / (np.std(x) * np.sqrt(n))\n",
    "\n",
    "t_a = a / m_a\n",
    "t_b = b / m_b\n",
    "\n",
    "print (\"Student boundaries ta={} tb={}\".format(t_a,t_b))"
   ]
  },
  {
   "cell_type": "code",
   "execution_count": null,
   "id": "954dce7c",
   "metadata": {},
   "outputs": [],
   "source": []
  }
 ],
 "metadata": {
  "kernelspec": {
   "display_name": "Python 3 (ipykernel)",
   "language": "python",
   "name": "python3"
  },
  "language_info": {
   "codemirror_mode": {
    "name": "ipython",
    "version": 3
   },
   "file_extension": ".py",
   "mimetype": "text/x-python",
   "name": "python",
   "nbconvert_exporter": "python",
   "pygments_lexer": "ipython3",
   "version": "3.9.12"
  }
 },
 "nbformat": 4,
 "nbformat_minor": 5
}
